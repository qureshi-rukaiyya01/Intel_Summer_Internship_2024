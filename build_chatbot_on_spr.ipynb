{
 "cells": [
  {
   "cell_type": "code",
   "execution_count": 1,
   "id": "67353d3d",
   "metadata": {},
   "outputs": [
    {
     "name": "stdout",
     "output_type": "stream",
     "text": [
      "Defaulting to user installation because normal site-packages is not writeable\n",
      "Requirement already satisfied: intel-extension-for-transformers in /home/user04/.local/lib/python3.9/site-packages (1.4.2)\n",
      "Requirement already satisfied: packaging in /opt/intel/oneapi/intelpython/python3.9/lib/python3.9/site-packages (from intel-extension-for-transformers) (21.3)\n",
      "Requirement already satisfied: schema in /home/user04/.local/lib/python3.9/site-packages (from intel-extension-for-transformers) (0.7.7)\n",
      "Requirement already satisfied: transformers in /home/user04/.local/lib/python3.9/site-packages (from intel-extension-for-transformers) (4.42.3)\n",
      "Requirement already satisfied: pyyaml in /opt/intel/oneapi/intelpython/python3.9/lib/python3.9/site-packages (from intel-extension-for-transformers) (6.0)\n",
      "Requirement already satisfied: numpy in /home/user04/.local/lib/python3.9/site-packages (from intel-extension-for-transformers) (1.23.5)\n",
      "Requirement already satisfied: neural-compressor in /home/user04/.local/lib/python3.9/site-packages (from intel-extension-for-transformers) (2.6)\n",
      "Requirement already satisfied: psutil in /home/user04/.local/lib/python3.9/site-packages (from neural-compressor->intel-extension-for-transformers) (5.9.4)\n",
      "Requirement already satisfied: pandas in /opt/intel/oneapi/intelpython/python3.9/lib/python3.9/site-packages (from neural-compressor->intel-extension-for-transformers) (1.5.1)\n",
      "Requirement already satisfied: pycocotools in /home/user04/.local/lib/python3.9/site-packages (from neural-compressor->intel-extension-for-transformers) (2.0.8)\n",
      "Requirement already satisfied: deprecated>=1.2.13 in /home/user04/.local/lib/python3.9/site-packages (from neural-compressor->intel-extension-for-transformers) (1.2.14)\n",
      "Requirement already satisfied: scikit-learn in /opt/intel/oneapi/intelpython/python3.9/lib/python3.9/site-packages (from neural-compressor->intel-extension-for-transformers) (1.1.1)\n",
      "Requirement already satisfied: requests in /home/user04/.local/lib/python3.9/site-packages (from neural-compressor->intel-extension-for-transformers) (2.32.3)\n",
      "Requirement already satisfied: Pillow in /opt/intel/oneapi/intelpython/python3.9/lib/python3.9/site-packages (from neural-compressor->intel-extension-for-transformers) (9.3.0)\n",
      "Requirement already satisfied: opencv-python-headless in /home/user04/.local/lib/python3.9/site-packages (from neural-compressor->intel-extension-for-transformers) (4.10.0.84)\n",
      "Requirement already satisfied: py-cpuinfo in /home/user04/.local/lib/python3.9/site-packages (from neural-compressor->intel-extension-for-transformers) (9.0.0)\n",
      "Requirement already satisfied: prettytable in /home/user04/.local/lib/python3.9/site-packages (from neural-compressor->intel-extension-for-transformers) (3.10.0)\n",
      "Requirement already satisfied: pyparsing!=3.0.5,>=2.0.2 in /opt/intel/oneapi/intelpython/python3.9/lib/python3.9/site-packages (from packaging->intel-extension-for-transformers) (3.0.9)\n",
      "Requirement already satisfied: filelock in /home/user04/.local/lib/python3.9/site-packages (from transformers->intel-extension-for-transformers) (3.15.4)\n",
      "Requirement already satisfied: safetensors>=0.4.1 in /home/user04/.local/lib/python3.9/site-packages (from transformers->intel-extension-for-transformers) (0.4.3)\n",
      "Requirement already satisfied: tokenizers<0.20,>=0.19 in /home/user04/.local/lib/python3.9/site-packages (from transformers->intel-extension-for-transformers) (0.19.1)\n",
      "Requirement already satisfied: tqdm>=4.27 in /home/user04/.local/lib/python3.9/site-packages (from transformers->intel-extension-for-transformers) (4.66.4)\n",
      "Requirement already satisfied: huggingface-hub<1.0,>=0.23.2 in /home/user04/.local/lib/python3.9/site-packages (from transformers->intel-extension-for-transformers) (0.23.4)\n",
      "Requirement already satisfied: regex!=2019.12.17 in /home/user04/.local/lib/python3.9/site-packages (from transformers->intel-extension-for-transformers) (2024.5.15)\n",
      "Requirement already satisfied: wrapt<2,>=1.10 in /opt/intel/oneapi/intelpython/python3.9/lib/python3.9/site-packages (from deprecated>=1.2.13->neural-compressor->intel-extension-for-transformers) (1.13.3)\n",
      "Requirement already satisfied: fsspec>=2023.5.0 in /home/user04/.local/lib/python3.9/site-packages (from huggingface-hub<1.0,>=0.23.2->transformers->intel-extension-for-transformers) (2024.5.0)\n",
      "Requirement already satisfied: typing-extensions>=3.7.4.3 in /home/user04/.local/lib/python3.9/site-packages (from huggingface-hub<1.0,>=0.23.2->transformers->intel-extension-for-transformers) (4.12.2)\n",
      "Requirement already satisfied: python-dateutil>=2.8.1 in /opt/intel/oneapi/intelpython/python3.9/lib/python3.9/site-packages (from pandas->neural-compressor->intel-extension-for-transformers) (2.8.2)\n",
      "Requirement already satisfied: pytz>=2020.1 in /opt/intel/oneapi/intelpython/python3.9/lib/python3.9/site-packages (from pandas->neural-compressor->intel-extension-for-transformers) (2022.1)\n",
      "Requirement already satisfied: wcwidth in /home/user04/.local/lib/python3.9/site-packages (from prettytable->neural-compressor->intel-extension-for-transformers) (0.2.6)\n",
      "Requirement already satisfied: matplotlib>=2.1.0 in /opt/intel/oneapi/intelpython/python3.9/lib/python3.9/site-packages (from pycocotools->neural-compressor->intel-extension-for-transformers) (3.6.2)\n",
      "Requirement already satisfied: idna<4,>=2.5 in /opt/intel/oneapi/intelpython/python3.9/lib/python3.9/site-packages (from requests->neural-compressor->intel-extension-for-transformers) (3.4)\n",
      "Requirement already satisfied: urllib3<3,>=1.21.1 in /opt/intel/oneapi/intelpython/python3.9/lib/python3.9/site-packages (from requests->neural-compressor->intel-extension-for-transformers) (1.26.12)\n",
      "Requirement already satisfied: charset-normalizer<4,>=2 in /opt/intel/oneapi/intelpython/python3.9/lib/python3.9/site-packages (from requests->neural-compressor->intel-extension-for-transformers) (2.0.4)\n",
      "Requirement already satisfied: certifi>=2017.4.17 in /opt/intel/oneapi/intelpython/python3.9/lib/python3.9/site-packages (from requests->neural-compressor->intel-extension-for-transformers) (2022.9.24)\n",
      "Requirement already satisfied: scipy>=1.3.2 in /home/user04/.local/lib/python3.9/site-packages (from scikit-learn->neural-compressor->intel-extension-for-transformers) (1.13.1)\n",
      "Requirement already satisfied: threadpoolctl>=2.0.0 in /opt/intel/oneapi/intelpython/python3.9/lib/python3.9/site-packages (from scikit-learn->neural-compressor->intel-extension-for-transformers) (2.2.0)\n",
      "Requirement already satisfied: joblib>=1.0.0 in /opt/intel/oneapi/intelpython/python3.9/lib/python3.9/site-packages (from scikit-learn->neural-compressor->intel-extension-for-transformers) (1.0.1)\n",
      "Requirement already satisfied: fonttools>=4.22.0 in /opt/intel/oneapi/intelpython/python3.9/lib/python3.9/site-packages (from matplotlib>=2.1.0->pycocotools->neural-compressor->intel-extension-for-transformers) (4.25.0)\n",
      "Requirement already satisfied: cycler>=0.10 in /opt/intel/oneapi/intelpython/python3.9/lib/python3.9/site-packages (from matplotlib>=2.1.0->pycocotools->neural-compressor->intel-extension-for-transformers) (0.11.0)\n",
      "Requirement already satisfied: contourpy>=1.0.1 in /opt/intel/oneapi/intelpython/python3.9/lib/python3.9/site-packages (from matplotlib>=2.1.0->pycocotools->neural-compressor->intel-extension-for-transformers) (1.0.5)\n",
      "Requirement already satisfied: kiwisolver>=1.0.1 in /opt/intel/oneapi/intelpython/python3.9/lib/python3.9/site-packages (from matplotlib>=2.1.0->pycocotools->neural-compressor->intel-extension-for-transformers) (1.4.2)\n",
      "Requirement already satisfied: six>=1.5 in /opt/intel/oneapi/intelpython/python3.9/lib/python3.9/site-packages (from python-dateutil>=2.8.1->pandas->neural-compressor->intel-extension-for-transformers) (1.16.0)\n"
     ]
    }
   ],
   "source": [
    " !pip install intel-extension-for-transformers"
   ]
  },
  {
   "cell_type": "code",
   "execution_count": 2,
   "id": "cb0bf09b",
   "metadata": {},
   "outputs": [
    {
     "name": "stdout",
     "output_type": "stream",
     "text": [
      "fatal: destination path 'intel-extension-for-transformers' already exists and is not an empty directory.\r\n"
     ]
    }
   ],
   "source": [
    " !git clone https://github.com/intel/intel-extension-for-transformers.git"
   ]
  },
  {
   "cell_type": "code",
   "execution_count": 3,
   "id": "c9ba9dc1",
   "metadata": {},
   "outputs": [
    {
     "name": "stdout",
     "output_type": "stream",
     "text": [
      "/home/user04/Nikita Zade/intel-extension-for-transformers/intel_extension_for_transformers/neural_chat\n",
      "Defaulting to user installation because normal site-packages is not writeable\n",
      "Looking in indexes: https://pypi.org/simple, https://pytorch-extension.intel.com/release-whl/stable/cpu/us/\n",
      "Requirement already satisfied: accelerate==0.28.0 in /home/user04/.local/lib/python3.9/site-packages (from -r requirements_cpu.txt (line 2)) (0.28.0)\n",
      "Requirement already satisfied: cchardet in /home/user04/.local/lib/python3.9/site-packages (from -r requirements_cpu.txt (line 3)) (2.1.7)\n",
      "Requirement already satisfied: einops in /home/user04/.local/lib/python3.9/site-packages (from -r requirements_cpu.txt (line 4)) (0.8.0)\n",
      "Requirement already satisfied: evaluate in /home/user04/.local/lib/python3.9/site-packages (from -r requirements_cpu.txt (line 5)) (0.4.2)\n",
      "Requirement already satisfied: fastapi in /home/user04/.local/lib/python3.9/site-packages (from -r requirements_cpu.txt (line 6)) (0.111.0)\n",
      "Requirement already satisfied: fschat==0.2.32 in /home/user04/.local/lib/python3.9/site-packages (from -r requirements_cpu.txt (line 7)) (0.2.32)\n",
      "Requirement already satisfied: huggingface_hub in /home/user04/.local/lib/python3.9/site-packages (from -r requirements_cpu.txt (line 8)) (0.23.4)\n",
      "Requirement already satisfied: intel_extension_for_pytorch==2.3.0 in /home/user04/.local/lib/python3.9/site-packages (from -r requirements_cpu.txt (line 9)) (2.3.0+cpu)\n",
      "Requirement already satisfied: lm-eval==0.4.3 in /home/user04/.local/lib/python3.9/site-packages (from -r requirements_cpu.txt (line 10)) (0.4.3)\n",
      "Requirement already satisfied: neural-compressor in /home/user04/.local/lib/python3.9/site-packages (from -r requirements_cpu.txt (line 11)) (2.6)\n",
      "Requirement already satisfied: neural_speed==1.0a0 in /home/user04/.local/lib/python3.9/site-packages (from -r requirements_cpu.txt (line 12)) (1.0a0)\n",
      "Requirement already satisfied: numpy==1.23.5 in /home/user04/.local/lib/python3.9/site-packages (from -r requirements_cpu.txt (line 13)) (1.23.5)\n",
      "Requirement already satisfied: oneccl_bind_pt in /home/user04/.local/lib/python3.9/site-packages (from -r requirements_cpu.txt (line 14)) (2.3.0+cpu)\n",
      "Requirement already satisfied: optimum in /home/user04/.local/lib/python3.9/site-packages (from -r requirements_cpu.txt (line 15)) (1.21.2)\n",
      "Requirement already satisfied: optimum-intel in /home/user04/.local/lib/python3.9/site-packages (from -r requirements_cpu.txt (line 16)) (1.18.1)\n",
      "Requirement already satisfied: peft==0.6.2 in /home/user04/.local/lib/python3.9/site-packages (from -r requirements_cpu.txt (line 17)) (0.6.2)\n",
      "Requirement already satisfied: pydantic==1.10.13 in /home/user04/.local/lib/python3.9/site-packages (from -r requirements_cpu.txt (line 18)) (1.10.13)\n",
      "Requirement already satisfied: python-dotenv in /home/user04/.local/lib/python3.9/site-packages (from -r requirements_cpu.txt (line 19)) (1.0.1)\n",
      "Requirement already satisfied: python-multipart in /home/user04/.local/lib/python3.9/site-packages (from -r requirements_cpu.txt (line 20)) (0.0.9)\n",
      "Requirement already satisfied: rouge_score in /home/user04/.local/lib/python3.9/site-packages (from -r requirements_cpu.txt (line 21)) (0.1.2)\n",
      "Requirement already satisfied: sacremoses in /home/user04/.local/lib/python3.9/site-packages (from -r requirements_cpu.txt (line 22)) (0.1.1)\n",
      "Requirement already satisfied: shortuuid in /home/user04/.local/lib/python3.9/site-packages (from -r requirements_cpu.txt (line 23)) (1.0.13)\n",
      "Requirement already satisfied: starlette in /home/user04/.local/lib/python3.9/site-packages (from -r requirements_cpu.txt (line 24)) (0.37.2)\n",
      "Requirement already satisfied: tiktoken==0.4.0 in /home/user04/.local/lib/python3.9/site-packages (from -r requirements_cpu.txt (line 25)) (0.4.0)\n",
      "Requirement already satisfied: torch==2.3.0 in /home/user04/.local/lib/python3.9/site-packages (from -r requirements_cpu.txt (line 26)) (2.3.0)\n",
      "Requirement already satisfied: torchaudio==2.3.0 in /home/user04/.local/lib/python3.9/site-packages (from -r requirements_cpu.txt (line 27)) (2.3.0)\n",
      "Requirement already satisfied: transformers>=4.35.2 in /home/user04/.local/lib/python3.9/site-packages (from -r requirements_cpu.txt (line 28)) (4.42.3)\n",
      "Requirement already satisfied: transformers_stream_generator in /home/user04/.local/lib/python3.9/site-packages (from -r requirements_cpu.txt (line 29)) (0.0.5)\n",
      "Requirement already satisfied: uvicorn in /home/user04/.local/lib/python3.9/site-packages (from -r requirements_cpu.txt (line 30)) (0.30.1)\n",
      "Requirement already satisfied: yacs in /home/user04/.local/lib/python3.9/site-packages (from -r requirements_cpu.txt (line 31)) (0.1.8)\n",
      "Requirement already satisfied: pyyaml in /opt/intel/oneapi/intelpython/python3.9/lib/python3.9/site-packages (from accelerate==0.28.0->-r requirements_cpu.txt (line 2)) (6.0)\n",
      "Requirement already satisfied: safetensors>=0.3.1 in /home/user04/.local/lib/python3.9/site-packages (from accelerate==0.28.0->-r requirements_cpu.txt (line 2)) (0.4.3)\n",
      "Requirement already satisfied: packaging>=20.0 in /opt/intel/oneapi/intelpython/python3.9/lib/python3.9/site-packages (from accelerate==0.28.0->-r requirements_cpu.txt (line 2)) (21.3)\n",
      "Requirement already satisfied: psutil in /home/user04/.local/lib/python3.9/site-packages (from accelerate==0.28.0->-r requirements_cpu.txt (line 2)) (5.9.4)\n",
      "Requirement already satisfied: prompt-toolkit>=3.0.0 in /home/user04/.local/lib/python3.9/site-packages (from fschat==0.2.32->-r requirements_cpu.txt (line 7)) (3.0.36)\n",
      "Requirement already satisfied: nh3 in /home/user04/.local/lib/python3.9/site-packages (from fschat==0.2.32->-r requirements_cpu.txt (line 7)) (0.2.18)\n",
      "Requirement already satisfied: markdown2[all] in /home/user04/.local/lib/python3.9/site-packages (from fschat==0.2.32->-r requirements_cpu.txt (line 7)) (2.4.13)\n",
      "Requirement already satisfied: requests in /home/user04/.local/lib/python3.9/site-packages (from fschat==0.2.32->-r requirements_cpu.txt (line 7)) (2.32.3)\n",
      "Requirement already satisfied: aiohttp in /opt/intel/oneapi/intelpython/python3.9/lib/python3.9/site-packages (from fschat==0.2.32->-r requirements_cpu.txt (line 7)) (3.7.4.post0)\n",
      "Requirement already satisfied: rich>=10.0.0 in /home/user04/.local/lib/python3.9/site-packages (from fschat==0.2.32->-r requirements_cpu.txt (line 7)) (13.7.1)\n",
      "Requirement already satisfied: httpx in /home/user04/.local/lib/python3.9/site-packages (from fschat==0.2.32->-r requirements_cpu.txt (line 7)) (0.27.0)\n",
      "Requirement already satisfied: pytablewriter in /home/user04/.local/lib/python3.9/site-packages (from lm-eval==0.4.3->-r requirements_cpu.txt (line 10)) (1.2.0)\n",
      "Requirement already satisfied: zstandard in /home/user04/.local/lib/python3.9/site-packages (from lm-eval==0.4.3->-r requirements_cpu.txt (line 10)) (0.22.0)\n",
      "Requirement already satisfied: jsonlines in /home/user04/.local/lib/python3.9/site-packages (from lm-eval==0.4.3->-r requirements_cpu.txt (line 10)) (4.0.0)\n",
      "Requirement already satisfied: pybind11>=2.6.2 in /home/user04/.local/lib/python3.9/site-packages (from lm-eval==0.4.3->-r requirements_cpu.txt (line 10)) (2.13.1)\n",
      "Requirement already satisfied: scikit-learn>=0.24.1 in /opt/intel/oneapi/intelpython/python3.9/lib/python3.9/site-packages (from lm-eval==0.4.3->-r requirements_cpu.txt (line 10)) (1.1.1)\n",
      "Requirement already satisfied: word2number in /home/user04/.local/lib/python3.9/site-packages (from lm-eval==0.4.3->-r requirements_cpu.txt (line 10)) (1.1)\n",
      "Requirement already satisfied: sqlitedict in /home/user04/.local/lib/python3.9/site-packages (from lm-eval==0.4.3->-r requirements_cpu.txt (line 10)) (2.1.0)\n",
      "Requirement already satisfied: tqdm-multiprocess in /home/user04/.local/lib/python3.9/site-packages (from lm-eval==0.4.3->-r requirements_cpu.txt (line 10)) (0.0.11)\n",
      "Requirement already satisfied: more-itertools in /home/user04/.local/lib/python3.9/site-packages (from lm-eval==0.4.3->-r requirements_cpu.txt (line 10)) (10.3.0)\n",
      "Requirement already satisfied: numexpr in /home/user04/.local/lib/python3.9/site-packages (from lm-eval==0.4.3->-r requirements_cpu.txt (line 10)) (2.10.1)\n",
      "Requirement already satisfied: dill in /home/user04/.local/lib/python3.9/site-packages (from lm-eval==0.4.3->-r requirements_cpu.txt (line 10)) (0.3.8)\n",
      "Requirement already satisfied: sacrebleu>=1.5.0 in /home/user04/.local/lib/python3.9/site-packages (from lm-eval==0.4.3->-r requirements_cpu.txt (line 10)) (2.4.2)\n",
      "Requirement already satisfied: datasets>=2.16.0 in /home/user04/.local/lib/python3.9/site-packages (from lm-eval==0.4.3->-r requirements_cpu.txt (line 10)) (2.20.0)\n",
      "Requirement already satisfied: tqdm in /home/user04/.local/lib/python3.9/site-packages (from peft==0.6.2->-r requirements_cpu.txt (line 17)) (4.66.4)\n",
      "Requirement already satisfied: typing-extensions>=4.2.0 in /home/user04/.local/lib/python3.9/site-packages (from pydantic==1.10.13->-r requirements_cpu.txt (line 18)) (4.12.2)\n",
      "Requirement already satisfied: regex>=2022.1.18 in /home/user04/.local/lib/python3.9/site-packages (from tiktoken==0.4.0->-r requirements_cpu.txt (line 25)) (2024.5.15)\n",
      "Requirement already satisfied: sympy in /home/user04/.local/lib/python3.9/site-packages (from torch==2.3.0->-r requirements_cpu.txt (line 26)) (1.13.0)\n",
      "Requirement already satisfied: nvidia-cufft-cu12==11.0.2.54 in /home/user04/.local/lib/python3.9/site-packages (from torch==2.3.0->-r requirements_cpu.txt (line 26)) (11.0.2.54)\n",
      "Requirement already satisfied: fsspec in /home/user04/.local/lib/python3.9/site-packages (from torch==2.3.0->-r requirements_cpu.txt (line 26)) (2024.5.0)\n",
      "Requirement already satisfied: nvidia-cuda-cupti-cu12==12.1.105 in /home/user04/.local/lib/python3.9/site-packages (from torch==2.3.0->-r requirements_cpu.txt (line 26)) (12.1.105)\n",
      "Requirement already satisfied: networkx in /home/user04/.local/lib/python3.9/site-packages (from torch==2.3.0->-r requirements_cpu.txt (line 26)) (3.2.1)\n",
      "Requirement already satisfied: filelock in /home/user04/.local/lib/python3.9/site-packages (from torch==2.3.0->-r requirements_cpu.txt (line 26)) (3.15.4)\n",
      "Requirement already satisfied: nvidia-cuda-runtime-cu12==12.1.105 in /home/user04/.local/lib/python3.9/site-packages (from torch==2.3.0->-r requirements_cpu.txt (line 26)) (12.1.105)\n",
      "Requirement already satisfied: nvidia-cublas-cu12==12.1.3.1 in /home/user04/.local/lib/python3.9/site-packages (from torch==2.3.0->-r requirements_cpu.txt (line 26)) (12.1.3.1)\n",
      "Requirement already satisfied: nvidia-nvtx-cu12==12.1.105 in /home/user04/.local/lib/python3.9/site-packages (from torch==2.3.0->-r requirements_cpu.txt (line 26)) (12.1.105)\n",
      "Requirement already satisfied: nvidia-cudnn-cu12==8.9.2.26 in /home/user04/.local/lib/python3.9/site-packages (from torch==2.3.0->-r requirements_cpu.txt (line 26)) (8.9.2.26)\n",
      "Requirement already satisfied: nvidia-nccl-cu12==2.20.5 in /home/user04/.local/lib/python3.9/site-packages (from torch==2.3.0->-r requirements_cpu.txt (line 26)) (2.20.5)\n",
      "Requirement already satisfied: triton==2.3.0 in /home/user04/.local/lib/python3.9/site-packages (from torch==2.3.0->-r requirements_cpu.txt (line 26)) (2.3.0)\n",
      "Requirement already satisfied: jinja2 in /home/user04/.local/lib/python3.9/site-packages (from torch==2.3.0->-r requirements_cpu.txt (line 26)) (3.1.2)\n",
      "Requirement already satisfied: nvidia-curand-cu12==10.3.2.106 in /home/user04/.local/lib/python3.9/site-packages (from torch==2.3.0->-r requirements_cpu.txt (line 26)) (10.3.2.106)\n",
      "Requirement already satisfied: nvidia-cusolver-cu12==11.4.5.107 in /home/user04/.local/lib/python3.9/site-packages (from torch==2.3.0->-r requirements_cpu.txt (line 26)) (11.4.5.107)\n",
      "Requirement already satisfied: nvidia-cusparse-cu12==12.1.0.106 in /home/user04/.local/lib/python3.9/site-packages (from torch==2.3.0->-r requirements_cpu.txt (line 26)) (12.1.0.106)\n",
      "Requirement already satisfied: nvidia-cuda-nvrtc-cu12==12.1.105 in /home/user04/.local/lib/python3.9/site-packages (from torch==2.3.0->-r requirements_cpu.txt (line 26)) (12.1.105)\n",
      "Requirement already satisfied: nvidia-nvjitlink-cu12 in /home/user04/.local/lib/python3.9/site-packages (from nvidia-cusolver-cu12==11.4.5.107->torch==2.3.0->-r requirements_cpu.txt (line 26)) (12.5.82)\n",
      "Requirement already satisfied: multiprocess in /home/user04/.local/lib/python3.9/site-packages (from evaluate->-r requirements_cpu.txt (line 5)) (0.70.16)\n",
      "Requirement already satisfied: xxhash in /home/user04/.local/lib/python3.9/site-packages (from evaluate->-r requirements_cpu.txt (line 5)) (3.4.1)\n",
      "Requirement already satisfied: pandas in /opt/intel/oneapi/intelpython/python3.9/lib/python3.9/site-packages (from evaluate->-r requirements_cpu.txt (line 5)) (1.5.1)\n",
      "Requirement already satisfied: ujson!=4.0.2,!=4.1.0,!=4.2.0,!=4.3.0,!=5.0.0,!=5.1.0,>=4.0.1 in /home/user04/.local/lib/python3.9/site-packages (from fastapi->-r requirements_cpu.txt (line 6)) (5.10.0)\n",
      "Requirement already satisfied: orjson>=3.2.1 in /home/user04/.local/lib/python3.9/site-packages (from fastapi->-r requirements_cpu.txt (line 6)) (3.10.6)\n",
      "Requirement already satisfied: fastapi-cli>=0.0.2 in /home/user04/.local/lib/python3.9/site-packages (from fastapi->-r requirements_cpu.txt (line 6)) (0.0.4)\n",
      "Requirement already satisfied: email_validator>=2.0.0 in /home/user04/.local/lib/python3.9/site-packages (from fastapi->-r requirements_cpu.txt (line 6)) (2.2.0)\n",
      "Requirement already satisfied: prettytable in /home/user04/.local/lib/python3.9/site-packages (from neural-compressor->-r requirements_cpu.txt (line 11)) (3.10.0)\n",
      "Requirement already satisfied: Pillow in /opt/intel/oneapi/intelpython/python3.9/lib/python3.9/site-packages (from neural-compressor->-r requirements_cpu.txt (line 11)) (9.3.0)\n",
      "Requirement already satisfied: py-cpuinfo in /home/user04/.local/lib/python3.9/site-packages (from neural-compressor->-r requirements_cpu.txt (line 11)) (9.0.0)\n",
      "Requirement already satisfied: schema in /home/user04/.local/lib/python3.9/site-packages (from neural-compressor->-r requirements_cpu.txt (line 11)) (0.7.7)\n",
      "Requirement already satisfied: opencv-python-headless in /home/user04/.local/lib/python3.9/site-packages (from neural-compressor->-r requirements_cpu.txt (line 11)) (4.10.0.84)\n",
      "Requirement already satisfied: deprecated>=1.2.13 in /home/user04/.local/lib/python3.9/site-packages (from neural-compressor->-r requirements_cpu.txt (line 11)) (1.2.14)\n",
      "Requirement already satisfied: pycocotools in /home/user04/.local/lib/python3.9/site-packages (from neural-compressor->-r requirements_cpu.txt (line 11)) (2.0.8)\n",
      "Requirement already satisfied: coloredlogs in /home/user04/.local/lib/python3.9/site-packages (from optimum->-r requirements_cpu.txt (line 15)) (15.0.1)\n",
      "Requirement already satisfied: setuptools in /opt/intel/oneapi/intelpython/python3.9/lib/python3.9/site-packages (from optimum-intel->-r requirements_cpu.txt (line 16)) (63.4.1)\n",
      "Requirement already satisfied: onnx in /home/user04/.local/lib/python3.9/site-packages (from optimum-intel->-r requirements_cpu.txt (line 16)) (1.16.1)\n",
      "Requirement already satisfied: scipy in /home/user04/.local/lib/python3.9/site-packages (from optimum-intel->-r requirements_cpu.txt (line 16)) (1.13.1)\n",
      "Requirement already satisfied: sentencepiece in /home/user04/.local/lib/python3.9/site-packages (from optimum-intel->-r requirements_cpu.txt (line 16)) (0.2.0)\n",
      "Requirement already satisfied: nltk in /home/user04/.local/lib/python3.9/site-packages (from rouge_score->-r requirements_cpu.txt (line 21)) (3.8.1)\n",
      "Requirement already satisfied: six>=1.14.0 in /opt/intel/oneapi/intelpython/python3.9/lib/python3.9/site-packages (from rouge_score->-r requirements_cpu.txt (line 21)) (1.16.0)\n",
      "Requirement already satisfied: absl-py in /opt/intel/oneapi/intelpython/python3.9/lib/python3.9/site-packages (from rouge_score->-r requirements_cpu.txt (line 21)) (1.3.0)\n",
      "Requirement already satisfied: click in /opt/intel/oneapi/intelpython/python3.9/lib/python3.9/site-packages (from sacremoses->-r requirements_cpu.txt (line 22)) (8.0.4)\n",
      "Requirement already satisfied: joblib in /opt/intel/oneapi/intelpython/python3.9/lib/python3.9/site-packages (from sacremoses->-r requirements_cpu.txt (line 22)) (1.0.1)\n",
      "Requirement already satisfied: anyio<5,>=3.4.0 in /home/user04/.local/lib/python3.9/site-packages (from starlette->-r requirements_cpu.txt (line 24)) (3.6.2)\n",
      "Requirement already satisfied: tokenizers<0.20,>=0.19 in /home/user04/.local/lib/python3.9/site-packages (from transformers>=4.35.2->-r requirements_cpu.txt (line 28)) (0.19.1)\n",
      "Requirement already satisfied: h11>=0.8 in /home/user04/.local/lib/python3.9/site-packages (from uvicorn->-r requirements_cpu.txt (line 30)) (0.14.0)\n",
      "Requirement already satisfied: sniffio>=1.1 in /home/user04/.local/lib/python3.9/site-packages (from anyio<5,>=3.4.0->starlette->-r requirements_cpu.txt (line 24)) (1.3.0)\n",
      "Requirement already satisfied: idna>=2.8 in /opt/intel/oneapi/intelpython/python3.9/lib/python3.9/site-packages (from anyio<5,>=3.4.0->starlette->-r requirements_cpu.txt (line 24)) (3.4)\n",
      "Requirement already satisfied: pyarrow-hotfix in /home/user04/.local/lib/python3.9/site-packages (from datasets>=2.16.0->lm-eval==0.4.3->-r requirements_cpu.txt (line 10)) (0.6)\n",
      "Requirement already satisfied: pyarrow>=15.0.0 in /home/user04/.local/lib/python3.9/site-packages (from datasets>=2.16.0->lm-eval==0.4.3->-r requirements_cpu.txt (line 10)) (16.1.0)\n",
      "Requirement already satisfied: wrapt<2,>=1.10 in /opt/intel/oneapi/intelpython/python3.9/lib/python3.9/site-packages (from deprecated>=1.2.13->neural-compressor->-r requirements_cpu.txt (line 11)) (1.13.3)\n",
      "Requirement already satisfied: dnspython>=2.0.0 in /home/user04/.local/lib/python3.9/site-packages (from email_validator>=2.0.0->fastapi->-r requirements_cpu.txt (line 6)) (2.6.1)\n",
      "Requirement already satisfied: typer>=0.12.3 in /home/user04/.local/lib/python3.9/site-packages (from fastapi-cli>=0.0.2->fastapi->-r requirements_cpu.txt (line 6)) (0.12.3)\n",
      "Requirement already satisfied: async-timeout<4.0,>=3.0 in /opt/intel/oneapi/intelpython/python3.9/lib/python3.9/site-packages (from aiohttp->fschat==0.2.32->-r requirements_cpu.txt (line 7)) (3.0.1)\n",
      "Requirement already satisfied: chardet<5.0,>=2.0 in /opt/intel/oneapi/intelpython/python3.9/lib/python3.9/site-packages (from aiohttp->fschat==0.2.32->-r requirements_cpu.txt (line 7)) (4.0.0)\n",
      "Requirement already satisfied: attrs>=17.3.0 in /home/user04/.local/lib/python3.9/site-packages (from aiohttp->fschat==0.2.32->-r requirements_cpu.txt (line 7)) (22.2.0)\n",
      "Requirement already satisfied: yarl<2.0,>=1.0 in /opt/intel/oneapi/intelpython/python3.9/lib/python3.9/site-packages (from aiohttp->fschat==0.2.32->-r requirements_cpu.txt (line 7)) (1.6.3)\n",
      "Requirement already satisfied: multidict<7.0,>=4.5 in /opt/intel/oneapi/intelpython/python3.9/lib/python3.9/site-packages (from aiohttp->fschat==0.2.32->-r requirements_cpu.txt (line 7)) (5.1.0)\n",
      "Requirement already satisfied: certifi in /opt/intel/oneapi/intelpython/python3.9/lib/python3.9/site-packages (from httpx->fschat==0.2.32->-r requirements_cpu.txt (line 7)) (2022.9.24)\n",
      "Requirement already satisfied: httpcore==1.* in /home/user04/.local/lib/python3.9/site-packages (from httpx->fschat==0.2.32->-r requirements_cpu.txt (line 7)) (1.0.5)\n",
      "Requirement already satisfied: MarkupSafe>=2.0 in /home/user04/.local/lib/python3.9/site-packages (from jinja2->torch==2.3.0->-r requirements_cpu.txt (line 26)) (2.1.2)\n",
      "Requirement already satisfied: pyparsing!=3.0.5,>=2.0.2 in /opt/intel/oneapi/intelpython/python3.9/lib/python3.9/site-packages (from packaging>=20.0->accelerate==0.28.0->-r requirements_cpu.txt (line 2)) (3.0.9)\n",
      "Requirement already satisfied: wcwidth in /home/user04/.local/lib/python3.9/site-packages (from prompt-toolkit>=3.0.0->fschat==0.2.32->-r requirements_cpu.txt (line 7)) (0.2.6)\n",
      "Requirement already satisfied: urllib3<3,>=1.21.1 in /opt/intel/oneapi/intelpython/python3.9/lib/python3.9/site-packages (from requests->fschat==0.2.32->-r requirements_cpu.txt (line 7)) (1.26.12)\n",
      "Requirement already satisfied: charset-normalizer<4,>=2 in /opt/intel/oneapi/intelpython/python3.9/lib/python3.9/site-packages (from requests->fschat==0.2.32->-r requirements_cpu.txt (line 7)) (2.0.4)\n",
      "Requirement already satisfied: markdown-it-py>=2.2.0 in /home/user04/.local/lib/python3.9/site-packages (from rich>=10.0.0->fschat==0.2.32->-r requirements_cpu.txt (line 7)) (3.0.0)\n",
      "Requirement already satisfied: pygments<3.0.0,>=2.13.0 in /home/user04/.local/lib/python3.9/site-packages (from rich>=10.0.0->fschat==0.2.32->-r requirements_cpu.txt (line 7)) (2.14.0)\n",
      "Requirement already satisfied: tabulate>=0.8.9 in /home/user04/.local/lib/python3.9/site-packages (from sacrebleu>=1.5.0->lm-eval==0.4.3->-r requirements_cpu.txt (line 10)) (0.9.0)\n",
      "Requirement already satisfied: lxml in /home/user04/.local/lib/python3.9/site-packages (from sacrebleu>=1.5.0->lm-eval==0.4.3->-r requirements_cpu.txt (line 10)) (5.2.2)\n",
      "Requirement already satisfied: portalocker in /home/user04/.local/lib/python3.9/site-packages (from sacrebleu>=1.5.0->lm-eval==0.4.3->-r requirements_cpu.txt (line 10)) (2.10.0)\n",
      "Requirement already satisfied: colorama in /home/user04/.local/lib/python3.9/site-packages (from sacrebleu>=1.5.0->lm-eval==0.4.3->-r requirements_cpu.txt (line 10)) (0.4.6)\n",
      "Requirement already satisfied: threadpoolctl>=2.0.0 in /opt/intel/oneapi/intelpython/python3.9/lib/python3.9/site-packages (from scikit-learn>=0.24.1->lm-eval==0.4.3->-r requirements_cpu.txt (line 10)) (2.2.0)\n",
      "Requirement already satisfied: protobuf in /home/user04/.local/lib/python3.9/site-packages (from transformers>=4.35.2->-r requirements_cpu.txt (line 28)) (4.25.3)\n",
      "Requirement already satisfied: httptools>=0.5.0 in /home/user04/.local/lib/python3.9/site-packages (from uvicorn->-r requirements_cpu.txt (line 30)) (0.6.1)\n",
      "Requirement already satisfied: watchfiles>=0.13 in /home/user04/.local/lib/python3.9/site-packages (from uvicorn->-r requirements_cpu.txt (line 30)) (0.22.0)\n",
      "Requirement already satisfied: uvloop!=0.15.0,!=0.15.1,>=0.14.0 in /home/user04/.local/lib/python3.9/site-packages (from uvicorn->-r requirements_cpu.txt (line 30)) (0.19.0)\n",
      "Requirement already satisfied: websockets>=10.4 in /home/user04/.local/lib/python3.9/site-packages (from uvicorn->-r requirements_cpu.txt (line 30)) (12.0)\n",
      "Requirement already satisfied: humanfriendly>=9.1 in /home/user04/.local/lib/python3.9/site-packages (from coloredlogs->optimum->-r requirements_cpu.txt (line 15)) (10.0)\n",
      "Requirement already satisfied: wavedrom in /home/user04/.local/lib/python3.9/site-packages (from markdown2[all]->fschat==0.2.32->-r requirements_cpu.txt (line 7)) (2.0.3.post3)\n",
      "Requirement already satisfied: python-dateutil>=2.8.1 in /opt/intel/oneapi/intelpython/python3.9/lib/python3.9/site-packages (from pandas->evaluate->-r requirements_cpu.txt (line 5)) (2.8.2)\n",
      "Requirement already satisfied: pytz>=2020.1 in /opt/intel/oneapi/intelpython/python3.9/lib/python3.9/site-packages (from pandas->evaluate->-r requirements_cpu.txt (line 5)) (2022.1)\n",
      "Requirement already satisfied: matplotlib>=2.1.0 in /opt/intel/oneapi/intelpython/python3.9/lib/python3.9/site-packages (from pycocotools->neural-compressor->-r requirements_cpu.txt (line 11)) (3.6.2)\n",
      "Requirement already satisfied: tabledata<2,>=1.3.1 in /home/user04/.local/lib/python3.9/site-packages (from pytablewriter->lm-eval==0.4.3->-r requirements_cpu.txt (line 10)) (1.3.3)\n",
      "Requirement already satisfied: tcolorpy<1,>=0.0.5 in /home/user04/.local/lib/python3.9/site-packages (from pytablewriter->lm-eval==0.4.3->-r requirements_cpu.txt (line 10)) (0.1.6)\n",
      "Requirement already satisfied: mbstrdecoder<2,>=1.0.0 in /home/user04/.local/lib/python3.9/site-packages (from pytablewriter->lm-eval==0.4.3->-r requirements_cpu.txt (line 10)) (1.1.3)\n",
      "Requirement already satisfied: typepy[datetime]<2,>=1.3.2 in /home/user04/.local/lib/python3.9/site-packages (from pytablewriter->lm-eval==0.4.3->-r requirements_cpu.txt (line 10)) (1.3.2)\n",
      "Requirement already satisfied: pathvalidate<4,>=2.3.0 in /home/user04/.local/lib/python3.9/site-packages (from pytablewriter->lm-eval==0.4.3->-r requirements_cpu.txt (line 10)) (3.2.0)\n",
      "Requirement already satisfied: DataProperty<2,>=1.0.1 in /home/user04/.local/lib/python3.9/site-packages (from pytablewriter->lm-eval==0.4.3->-r requirements_cpu.txt (line 10)) (1.0.1)\n",
      "Requirement already satisfied: mpmath<1.4,>=1.1.0 in /home/user04/.local/lib/python3.9/site-packages (from sympy->torch==2.3.0->-r requirements_cpu.txt (line 26)) (1.3.0)\n",
      "Requirement already satisfied: mdurl~=0.1 in /home/user04/.local/lib/python3.9/site-packages (from markdown-it-py>=2.2.0->rich>=10.0.0->fschat==0.2.32->-r requirements_cpu.txt (line 7)) (0.1.2)\n",
      "Requirement already satisfied: cycler>=0.10 in /opt/intel/oneapi/intelpython/python3.9/lib/python3.9/site-packages (from matplotlib>=2.1.0->pycocotools->neural-compressor->-r requirements_cpu.txt (line 11)) (0.11.0)\n",
      "Requirement already satisfied: contourpy>=1.0.1 in /opt/intel/oneapi/intelpython/python3.9/lib/python3.9/site-packages (from matplotlib>=2.1.0->pycocotools->neural-compressor->-r requirements_cpu.txt (line 11)) (1.0.5)\n",
      "Requirement already satisfied: kiwisolver>=1.0.1 in /opt/intel/oneapi/intelpython/python3.9/lib/python3.9/site-packages (from matplotlib>=2.1.0->pycocotools->neural-compressor->-r requirements_cpu.txt (line 11)) (1.4.2)\n",
      "Requirement already satisfied: fonttools>=4.22.0 in /opt/intel/oneapi/intelpython/python3.9/lib/python3.9/site-packages (from matplotlib>=2.1.0->pycocotools->neural-compressor->-r requirements_cpu.txt (line 11)) (4.25.0)\n",
      "Requirement already satisfied: shellingham>=1.3.0 in /home/user04/.local/lib/python3.9/site-packages (from typer>=0.12.3->fastapi-cli>=0.0.2->fastapi->-r requirements_cpu.txt (line 6)) (1.5.4)\n",
      "Requirement already satisfied: svgwrite in /home/user04/.local/lib/python3.9/site-packages (from wavedrom->markdown2[all]->fschat==0.2.32->-r requirements_cpu.txt (line 7)) (1.4.3)\n",
      "/home/user04/Nikita Zade\n"
     ]
    }
   ],
   "source": [
    "%cd ./intel-extension-for-transformers/intel_extension_for_transformers/neural_chat/\n",
    "!pip install -r requirements_cpu.txt\n",
    "%cd ../../../"
   ]
  },
  {
   "cell_type": "code",
   "execution_count": 5,
   "id": "ffec443b",
   "metadata": {},
   "outputs": [
    {
     "name": "stdout",
     "output_type": "stream",
     "text": [
      "Loading model Intel/neural-chat-7b-v3-1\n"
     ]
    },
    {
     "data": {
      "application/vnd.jupyter.widget-view+json": {
       "model_id": "8099cc18fd864038a6a4d5287d655a0b",
       "version_major": 2,
       "version_minor": 0
      },
      "text/plain": [
       "Loading checkpoint shards:   0%|          | 0/2 [00:00<?, ?it/s]"
      ]
     },
     "metadata": {},
     "output_type": "display_data"
    },
    {
     "name": "stdout",
     "output_type": "stream",
     "text": [
      "For Intel software development, there is a wide range of tools available to cater to different needs. Some popular ones include:\n",
      "\n",
      "1. Intel® DevCloud: A cloud-based platform offering various development environments and tools for creating applications on Intel architectures.\n",
      "2. Intel® Software Development Tools (SDT): A suite of compilers, debuggers, and other utilities designed specifically for Intel processors.\n",
      "3. OpenVINO™ Toolkit: A comprehensive toolkit for deep learning inference optimization, including pre-trained models, optimized neural networks, and performance analysis tools.\n",
      "4. Intel® Distribution of OpenVINO™ Toolkit: An extension of the OpenVINO™ Toolkit with additional features like model conversion, quantization, and performance tuning.\n",
      "5. Intel® Advisor: A performance analysis and optimization tool for C++, Fortran, and OpenCL applications running on Intel platforms.\n",
      "6. Intel® Parallel Studio XE: A complete set of tools for developing high-performance applications using parallel programming techniques such as OpenMP, MPI, and Cilk Plus.\n",
      "7.\n"
     ]
    }
   ],
   "source": [
    "# BF16 Optimization\n",
    "from intel_extension_for_transformers.neural_chat import build_chatbot, PipelineConfig\n",
    "from intel_extension_for_transformers.transformers import MixedPrecisionConfig\n",
    "config = PipelineConfig(optimization_config=MixedPrecisionConfig())\n",
    "chatbot = build_chatbot(config)\n",
    "response = chatbot.predict(query=\"What tools are available for Intel software development?\")\n",
    "print(response)"
   ]
  },
  {
   "cell_type": "code",
   "execution_count": 6,
   "id": "cd14d062",
   "metadata": {},
   "outputs": [
    {
     "name": "stdout",
     "output_type": "stream",
     "text": [
      "To optimize your software for Intel processors, follow these steps:\n",
      "\n",
      "1. Understand the target platform: Familiarize yourself with the specific Intel processor architecture and its features. This knowledge will help you identify areas where optimization is needed.\n",
      "\n",
      "2. Use appropriate compiler options: Choose the right compiler settings when compiling your code. For example, using the Intel C++ Compiler (ICC) or the Intel Fortran Compiler (IFORT) can provide better performance on Intel platforms.\n",
      "\n",
      "3. Leverage Intel-specific instructions: Take advantage of Intel's advanced instruction sets like SSE, AVX, AVX2, and AVX512 to improve performance in your application. These instructions can significantly boost computational speed if used correctly.\n",
      "\n",
      "4. Optimize data access patterns: Reduce memory access latency by aligning data structures properly and minimizing cache misses. This can be achieved through careful design choices and efficient use of data structures.\n",
      "\n",
      "5. Parallelize your code: Utilize Intel's multithreading capabilities by implementing parallel algorithms or using OpenMP, TBB, or other threading libraries.\n"
     ]
    }
   ],
   "source": [
    "response = chatbot.predict(query=\"How can I optimize my software for Intel processors?\")\n",
    "print(response)"
   ]
  },
  {
   "cell_type": "code",
   "execution_count": 7,
   "id": "110ca412",
   "metadata": {},
   "outputs": [
    {
     "name": "stdout",
     "output_type": "stream",
     "text": [
      "Intel plays a significant part in shaping the future of 5G technology. As a leading innovator in semiconductor solutions, they contribute to the development of advanced hardware and software components for 5G networks. This includes designing and manufacturing modems, baseband processors, and other essential elements that enable faster data transmission, lower latency, and improved network efficiency. By collaborating with telecom operators, equipment manufacturers, and industry partners, Intel helps drive the evolution of 5G networks towards greater connectivity, enhanced experiences, and new opportunities across various industries.\n"
     ]
    }
   ],
   "source": [
    "response = chatbot.predict(query=\"What is Intel's role in 5G technology?\")\n",
    "print(response)"
   ]
  },
  {
   "cell_type": "code",
   "execution_count": 8,
   "id": "eb2b384a",
   "metadata": {},
   "outputs": [
    {
     "name": "stdout",
     "output_type": "stream",
     "text": [
      "In the real world, performance comparisons between Intel Core and AMD Ryzen processors can vary depending on specific tasks, applications, and individual system configurations. However, some general observations can be made:\n",
      "\n",
      "1. Single-core performance: Intel Core processors generally have better single-core performance compared to AMD Ryzen processors. This is important for tasks that heavily rely on one core, such as certain gaming scenarios or CPU-intensive workloads like video editing.\n",
      "\n",
      "2. Multi-core performance: AMD Ryzen processors often excel in multi-threaded tasks due to their higher core counts and efficient thread scheduling. They perform well in tasks that utilize multiple cores simultaneously, such as rendering, encoding, and scientific computing.\n",
      "\n",
      "3. Gaming performance: While both Intel Core and AMD Ryzen processors can handle modern games, Intel tends to offer slightly better gaming performance overall, especially when paired with high-end graphics cards. However, this gap has been closing over time, and there are now many competitive options from both manufacturers.\n",
      "\n",
      "4. Power efficiency: AMD Ryzen processors typically consume less power while offering comparable performance to Intel Core processors.\n"
     ]
    }
   ],
   "source": [
    "response = chatbot.predict(query=\"What are the real-world performance differences between Intel Core and AMD Ryzen processors?\")\n",
    "print(response)"
   ]
  },
  {
   "cell_type": "code",
   "execution_count": 9,
   "id": "7749899b",
   "metadata": {},
   "outputs": [
    {
     "name": "stdout",
     "output_type": "stream",
     "text": [
      "Sure, let's break it down for better understanding. All these processors belong to the same family - Intel Core series. They differ in terms of performance, features, and price. Here is a brief comparison:\n",
      "\n",
      "1. Intel Core i3: These processors offer basic computing needs with decent performance. They are suitable for everyday tasks like web browsing, emailing, and light gaming.\n",
      "\n",
      "2. Intel Core i5: A step up from i3, i5 processors provide better overall performance, making them ideal for multitasking, video editing, and moderate gaming.\n",
      "\n",
      "3. Intel Core i7: Designed for high-performance computing, i7 processors excel at handling demanding tasks such as video rendering, data analysis, and heavy gaming.\n",
      "\n",
      "4. Intel Core i9: The top-tier processor in this lineup, i9 offers the highest level of performance for extreme workloads like professional content creation, scientific research, and advanced gaming.\n",
      "\n",
      "In summary, each processor has its own strengths and caters to different users depending on their specific requirements. As you move up the ladder (i3, i5, i7, i9), you get increased performance, features,\n"
     ]
    }
   ],
   "source": [
    "response = chatbot.predict(query=\"Can you explain the difference between Intel Core i3, i5, i7, and i9 processors?\")\n",
    "print(response)"
   ]
  },
  {
   "cell_type": "code",
   "execution_count": null,
   "id": "3c09ce03",
   "metadata": {},
   "outputs": [],
   "source": []
  }
 ],
 "metadata": {
  "kernelspec": {
   "display_name": "Python 3 (ipykernel)",
   "language": "python",
   "name": "python3"
  },
  "language_info": {
   "codemirror_mode": {
    "name": "ipython",
    "version": 3
   },
   "file_extension": ".py",
   "mimetype": "text/x-python",
   "name": "python",
   "nbconvert_exporter": "python",
   "pygments_lexer": "ipython3",
   "version": "3.9.15"
  }
 },
 "nbformat": 4,
 "nbformat_minor": 5
}
